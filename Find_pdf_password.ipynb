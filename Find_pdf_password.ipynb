{
  "nbformat": 4,
  "nbformat_minor": 0,
  "metadata": {
    "colab": {
      "provenance": [],
      "authorship_tag": "ABX9TyPCnB0YOTqQqOyIpsJucry9",
      "include_colab_link": true
    },
    "kernelspec": {
      "name": "python3",
      "display_name": "Python 3"
    },
    "language_info": {
      "name": "python"
    }
  },
  "cells": [
    {
      "cell_type": "markdown",
      "metadata": {
        "id": "view-in-github",
        "colab_type": "text"
      },
      "source": [
        "<a href=\"https://colab.research.google.com/github/Kingshuk-Mondal/simple-Projects/blob/main/Find_pdf_password.ipynb\" target=\"_parent\"><img src=\"https://colab.research.google.com/assets/colab-badge.svg\" alt=\"Open In Colab\"/></a>"
      ]
    },
    {
      "cell_type": "code",
      "source": [
        "#Make Colab Keep Alive to prevent idle disconnection.\n",
        "\n",
        "function ClickConnect(){\n",
        "    console.log(\"Clicked on reconnect\");\n",
        "    document.querySelector(\"colab-toolbar-button#connect\").click();\n",
        "}\n",
        "setInterval(ClickConnect, 60000); // Every 60 seconds"
      ],
      "metadata": {
        "id": "NhLDHD53RlF9"
      },
      "execution_count": null,
      "outputs": []
    },
    {
      "cell_type": "code",
      "execution_count": null,
      "metadata": {
        "id": "Eu4He0AARDY4"
      },
      "outputs": [],
      "source": [
        "!pip install --upgrade pikepdf"
      ]
    },
    {
      "cell_type": "code",
      "source": [
        "# Install required library\n",
        "!pip install pikepdf tqdm\n",
        "\n",
        "import pikepdf\n",
        "from tqdm import tqdm\n",
        "import itertools\n",
        "import string\n",
        "import time\n",
        "\n",
        "# Step 1: Upload the PDF\n",
        "from google.colab import files\n",
        "uploaded = files.upload()\n",
        "\n",
        "# Extract the uploaded file name\n",
        "pdf_file = next(iter(uploaded.keys()))\n",
        "print(f\"Uploaded PDF: {pdf_file}\")\n",
        "\n",
        "# Step 2: Ask user for password parameters\n",
        "password_length = int(input(\"Enter the maximum password length (e.g., 8): \"))\n",
        "character_set_option = input(\"Choose character set:\\n1: Numbers (0-9)\\n2: Lowercase (a-z)\\n3: Uppercase (A-Z)\\n\"\n",
        "                              \"4: Alphanumeric (a-z, A-Z, 0-9)\\n5: Alphanumeric + Special Characters\\n\"\n",
        "                              \"Enter your choice (1-5): \")\n",
        "\n",
        "# Map character set options\n",
        "if character_set_option == \"1\":\n",
        "    characters = string.digits\n",
        "elif character_set_option == \"2\":\n",
        "    characters = string.ascii_lowercase\n",
        "elif character_set_option == \"3\":\n",
        "    characters = string.ascii_uppercase\n",
        "elif character_set_option == \"4\":\n",
        "    characters = string.ascii_letters + string.digits\n",
        "elif character_set_option == \"5\":\n",
        "    characters = string.ascii_letters + string.digits + string.punctuation\n",
        "else:\n",
        "    print(\"Invalid choice. Defaulting to Numbers (0-9).\")\n",
        "    characters = string.digits\n",
        "\n",
        "print(f\"Using character set: {characters}\")\n",
        "\n",
        "# Step 3: Brute-force password cracking\n",
        "def brute_force_pdf(pdf_file, max_length, characters):\n",
        "    print(\"\\nStarting brute force attack...\")\n",
        "    start_time = time.time()\n",
        "    with tqdm(total=sum(len(characters) ** i for i in range(1, max_length + 1)), desc=\"Trying passwords\") as pbar:\n",
        "        for length in range(1, max_length + 1):\n",
        "            for attempt in itertools.product(characters, repeat=length):\n",
        "                password = ''.join(attempt)\n",
        "                try:\n",
        "                    with pikepdf.open(pdf_file, password=password):\n",
        "                        print(f\"\\nPassword found: {password}\")\n",
        "                        print(f\"Time taken: {time.time() - start_time:.2f} seconds\")\n",
        "                        return password\n",
        "                except pikepdf.PasswordError:\n",
        "                    # Incorrect password; continue to next attempt\n",
        "                    pass\n",
        "                pbar.update(1)\n",
        "    print(\"Password not found. Try increasing the length or adjusting the character set.\")\n",
        "    return None\n",
        "\n",
        "# Run the brute-force attack\n",
        "password = brute_force_pdf(pdf_file, password_length, characters)\n",
        "\n",
        "if password:\n",
        "    print(f\"\\nUnlocked PDF with password: {password}\")\n",
        "else:\n",
        "    print(\"\\nCould not unlock the PDF.\")\n",
        "\n",
        "#Note: If your password length 7 or more than 7 it will takes time so be calm and wait some time 😒!!\n",
        "#P.S.: as you go increse your complex password it will increase your runtime exponentially😒😒🫥😑"
      ],
      "metadata": {
        "id": "rBCzFeqeRElX"
      },
      "execution_count": null,
      "outputs": []
    }
  ]
}